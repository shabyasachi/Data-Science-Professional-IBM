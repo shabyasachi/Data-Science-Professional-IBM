{
 "cells": [
  {
   "cell_type": "markdown",
   "metadata": {},
   "source": [
    "# My Jupyter Notebook on IBM Watson Studio"
   ]
  },
  {
   "cell_type": "markdown",
   "metadata": {},
   "source": [
    "**Shabyasachi** "
   ]
  },
  {
   "cell_type": "markdown",
   "metadata": {},
   "source": [
    "ML enthusiast"
   ]
  },
  {
   "cell_type": "markdown",
   "metadata": {},
   "source": [
    "*Intrested in exploring ML Space*"
   ]
  },
  {
   "cell_type": "markdown",
   "metadata": {},
   "source": [
    "### The following Code will generate a random integer between 0 and 10"
   ]
  },
  {
   "cell_type": "code",
   "execution_count": 1,
   "metadata": {},
   "outputs": [
    {
     "name": "stdout",
     "output_type": "stream",
     "text": [
      "2\n"
     ]
    }
   ],
   "source": [
    "import random\n",
    "\n",
    "Random_int = random.randint(0,10)\n",
    "\n",
    "print(Random_int)"
   ]
  },
  {
   "cell_type": "markdown",
   "metadata": {},
   "source": [
    "Technologies I am intrested :\n",
    "___\n",
    "1. ML/DL\n",
    "2. Data Analytics\n",
    "4. IoT\n",
    "___\n",
    "[Github](https://github.com/shabyasachi) - https://github.com/shabyasachi\n",
    "\n",
    "[Linkedin](https://www.linkedin.com/in/shabyasachi/) - https://www.linkedin.com/in/shabyasachi\n",
    "\n",
    "[Twitter](https://twitter.com/shabyasachii) - https://twitter.com/shabyasachii\n",
    "\n",
    "[Contact](shabyasachii@gmail.com) -  shabyasachii@gmail.com \n",
    " "
   ]
  }
 ],
 "metadata": {
  "kernelspec": {
   "display_name": "Python 3 (ipykernel)",
   "language": "python",
   "name": "python3"
  },
  "language_info": {
   "codemirror_mode": {
    "name": "ipython",
    "version": 3
   },
   "file_extension": ".py",
   "mimetype": "text/x-python",
   "name": "python",
   "nbconvert_exporter": "python",
   "pygments_lexer": "ipython3",
   "version": "3.9.13"
  }
 },
 "nbformat": 4,
 "nbformat_minor": 4
}
